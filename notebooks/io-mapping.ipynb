{
 "cells": [
  {
   "cell_type": "markdown",
   "metadata": {},
   "source": [
    "#### Fix Relative paths for the notebook"
   ]
  },
  {
   "cell_type": "code",
   "execution_count": 1,
   "metadata": {},
   "outputs": [],
   "source": [
    "import sys\n",
    "import os\n",
    "\n",
    "# Get the absolute path of the project root (adjust as needed)\n",
    "project_root = os.path.abspath(\"..\")  # Moves one level up to project root\n",
    "\n",
    "# Add to sys.path if not already present\n",
    "if project_root not in sys.path:\n",
    "    sys.path.insert(0, project_root)\n"
   ]
  },
  {
   "cell_type": "code",
   "execution_count": 3,
   "metadata": {},
   "outputs": [
    {
     "name": "stdout",
     "output_type": "stream",
     "text": [
      "export_template_path: /root/fast-api-graph/outflow/templates\n",
      "qdrant_host: localhost\n",
      "qdrant_port: 6333\n",
      "neo4j_connection: bolt://localhost:7687\n",
      "neo4j_user: neo4j\n",
      "neo4j_password: ********\n",
      "Neo4j Connection Successful\n"
     ]
    }
   ],
   "source": [
    "from database.database import get_dtc_with_components"
   ]
  },
  {
   "cell_type": "code",
   "execution_count": 2,
   "metadata": {},
   "outputs": [
    {
     "name": "stdout",
     "output_type": "stream",
     "text": [
      "Processing IO Mapping - total IOs: 658\n"
     ]
    }
   ],
   "source": [
    "import os\n",
    "from xmltodict import parse\n",
    "\n",
    "file_content = None\n",
    "# calculate the hash of the file\n",
    "with open(f\"../data/input/io_lists/PtIOList_COO.xml\", \"rb\") as file:\n",
    "    file_content = file.read()\n",
    "    # parse the xml file content to a dictionary\n",
    "    pt_io_list = parse(file_content)\n",
    "    io_list = []\n",
    "    if (\n",
    "        \"IO\" in pt_io_list[\"PtIOList\"]\n",
    "        and type(pt_io_list[\"PtIOList\"][\"IO\"]) == list\n",
    "    ):\n",
    "        for io in pt_io_list[\"PtIOList\"][\"IO\"]:\n",
    "            io_list.append(io)\n",
    "    elif \"IO\" in pt_io_list[\"PtIOList\"]:\n",
    "        io_list.append(pt_io_list[\"PtIOList\"][\"IO\"])\n",
    "\n",
    "    print(f\"Processing IO Mapping - total IOs: {len(io_list)}\")"
   ]
  },
  {
   "cell_type": "code",
   "execution_count": 3,
   "metadata": {},
   "outputs": [
    {
     "name": "stdout",
     "output_type": "stream",
     "text": [
      "export_template_path: /root/fast-api-graph/outflow/templates\n",
      "qdrant_host: localhost\n",
      "qdrant_port: 6333\n",
      "neo4j_connection: bolt://localhost:7687\n",
      "neo4j_user: neo4j\n",
      "neo4j_password: ********\n",
      "Neo4j Connection Successful\n"
     ]
    }
   ],
   "source": [
    "import importlib\n",
    "import graphs.io_processor  # Ensure the module is imported first\n",
    "importlib.reload(graphs.io_processor)\n",
    "\n",
    "# Now reassign the imported attribute\n",
    "io_processor = graphs.io_processor.graph"
   ]
  },
  {
   "cell_type": "code",
   "execution_count": 4,
   "metadata": {},
   "outputs": [
    {
     "data": {
      "text/plain": [
       "{'Name': 'COO-LowCoolantLevelGuard-PIN',\n",
       " 'NamePresentation': {'@edt': 'nfTxt', '#text': 'Coolant Level Warning Guard'},\n",
       " 'PhysicalQuantity': {'@ref': 'PhysicalQuantity', '#text': 'Dimensionless'},\n",
       " 'IOService': {'Name': 'COO-LowCoolantLevelGuard-PIN-readIO',\n",
       "  'CommandType': 'readIO',\n",
       "  'Description': {'@edt': 'fTxt'},\n",
       "  'DiscreteVariable': {'@ref': 'DiscreteVariable', '#text': 'ScaniaState'}}}"
      ]
     },
     "execution_count": 4,
     "metadata": {},
     "output_type": "execute_result"
    }
   ],
   "source": [
    "target_io_name = \"COO-LowCoolantLevelGuard-PIN\"\n",
    "\n",
    "io = None\n",
    "for io in io_list:\n",
    "    if io[\"Name\"] == target_io_name:\n",
    "        break\n",
    "\n",
    "io"
   ]
  },
  {
   "cell_type": "code",
   "execution_count": 5,
   "metadata": {},
   "outputs": [
    {
     "name": "stdout",
     "output_type": "stream",
     "text": [
      "{'process_io_item': {'matched': 'yes', 'component': 'R142'}}\n",
      "Matched component: R142\n"
     ]
    }
   ],
   "source": [
    "ecu_system_execution = \"C008\"\n",
    "for event in io_processor.stream(\n",
    "            {\n",
    "                \"io_item\": io,\n",
    "                \"ecu_system\": ecu_system_execution,\n",
    "                \"base_configuration_components\": [],\n",
    "            },\n",
    "            stream_mode=\"updates\",\n",
    "        ):\n",
    "            print(event)\n",
    "            if (\n",
    "                \"process_io_item\" in event\n",
    "                and event[\"process_io_item\"][\"matched\"] == \"yes\"\n",
    "            ):\n",
    "                component_name = event[\"process_io_item\"][\"component\"]\n",
    "\n",
    "                print(f\"Matched component: {component_name}\")"
   ]
  },
  {
   "cell_type": "code",
   "execution_count": null,
   "metadata": {},
   "outputs": [],
   "source": []
  }
 ],
 "metadata": {
  "kernelspec": {
   "display_name": "venv",
   "language": "python",
   "name": "python3"
  },
  "language_info": {
   "codemirror_mode": {
    "name": "ipython",
    "version": 3
   },
   "file_extension": ".py",
   "mimetype": "text/x-python",
   "name": "python",
   "nbconvert_exporter": "python",
   "pygments_lexer": "ipython3",
   "version": "3.12.2"
  }
 },
 "nbformat": 4,
 "nbformat_minor": 2
}
