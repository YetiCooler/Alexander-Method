{
 "cells": [
  {
   "cell_type": "code",
   "execution_count": 1,
   "metadata": {},
   "outputs": [],
   "source": [
    "import sys\n",
    "import os\n",
    "\n",
    "# Get the absolute path of the project root (adjust as needed)\n",
    "project_root = os.path.abspath(\"../..\")  # Moves one level up to project root\n",
    "\n",
    "# Add to sys.path if not already present\n",
    "if project_root not in sys.path:\n",
    "    sys.path.insert(0, project_root)"
   ]
  },
  {
   "cell_type": "code",
   "execution_count": 2,
   "metadata": {},
   "outputs": [],
   "source": [
    "# Load all import parameters\n",
    "from models.input.function_property_group import FunctionPropertyGroup"
   ]
  },
  {
   "cell_type": "code",
   "execution_count": 3,
   "metadata": {},
   "outputs": [
    {
     "name": "stdout",
     "output_type": "stream",
     "text": [
      "name='EngineSpeedControl' no_namespace_schema_location='../../../Dev/schema/sds/FunctionView/FunctionPropertyGroup/FunctionPropertyGroup.xsd' namePresentation=NamePresentation(edt='nfTxt', value='Engine speed control') description=Description(edt='fTxt', value='Here you can adjust parameters that affect engine speed control. The functions that is affected is, Hand throttle, Limited hand throttle (mode 1), Raised idling speed (mode 2), Predefined (locked) engine speed (mode 3) and Remote engine speed control (mode 4).') productVariantConditionRef=ProductVariantConditionRef(ref='ProductVariantCondition', value='Without_BWE_Without_ElectricMotor') ufNumber=[93, 221, 222, 275] propertyGroup=None property=[Property(server=Server(canAddress='00', propertyName='PTOGearDeac'))]\n"
     ]
    }
   ],
   "source": [
    "from pathlib import Path\n",
    "\n",
    "# Read as bytes to handle encoding declaration correctly\n",
    "with Path(\"./data/Function-Parameters/FunctionViewAdjust/FunctionPropertyGroup_EngineSpeedControl.xml\").open(\"rb\") as f:\n",
    "    xml_data = f.read()\n",
    "\n",
    "# Now parse it\n",
    "obj = FunctionPropertyGroup.from_xml(xml_data)\n",
    "\n",
    "# Access like normal\n",
    "print(obj)\n"
   ]
  },
  {
   "cell_type": "code",
   "execution_count": 4,
   "metadata": {},
   "outputs": [],
   "source": [
    "range_data_xml = obj.to_xml(\n",
    "        pretty_print=True,\n",
    "        encoding=\"UTF-8\",\n",
    "        xml_declaration=True,\n",
    "    )"
   ]
  },
  {
   "cell_type": "code",
   "execution_count": 5,
   "metadata": {},
   "outputs": [
    {
     "name": "stdout",
     "output_type": "stream",
     "text": [
      "<?xml version='1.0' encoding='UTF-8'?>\n",
      "<FunctionPropertyGroup xmlns:xsi=\"http://www.w3.org/2001/XMLSchema-instance\" xsi:noNamespaceSchemaLocation=\"../../../Dev/schema/sds/FunctionView/FunctionPropertyGroup/FunctionPropertyGroup.xsd\">\n",
      "  <Name>EngineSpeedControl</Name>\n",
      "  <NamePresentation edt=\"nfTxt\">Engine speed control</NamePresentation>\n",
      "  <Description edt=\"fTxt\">Here you can adjust parameters that affect engine speed control. The functions that is affected is, Hand throttle, Limited hand throttle (mode 1), Raised idling speed (mode 2), Predefined (locked) engine speed (mode 3) and Remote engine speed control (mode 4).</Description>\n",
      "  <ProductVariantConditionRef ref=\"ProductVariantCondition\">Without_BWE_Without_ElectricMotor</ProductVariantConditionRef>\n",
      "  <UFNumber>93</UFNumber>\n",
      "  <UFNumber>221</UFNumber>\n",
      "  <UFNumber>222</UFNumber>\n",
      "  <UFNumber>275</UFNumber>\n",
      "  <Property>\n",
      "    <Server>\n",
      "      <CanAddress>00</CanAddress>\n",
      "      <PropertyName>PTOGearDeac</PropertyName>\n",
      "    </Server>\n",
      "  </Property>\n",
      "</FunctionPropertyGroup>\n",
      "\n"
     ]
    }
   ],
   "source": [
    "xml_str = range_data_xml.decode(\"utf-8\")\n",
    "print(xml_str)"
   ]
  },
  {
   "cell_type": "code",
   "execution_count": 26,
   "metadata": {},
   "outputs": [],
   "source": [
    "from lxml import etree\n",
    "from xml.dom import minidom\n",
    "# Step 1: Get the XML tree from your model\n",
    "tree = obj.to_xml_tree()\n",
    "\n",
    "# Step 2: Convert to string without pretty print (raw XML)\n",
    "raw_xml = obj.to_xml(\n",
    "        pretty_print=True,\n",
    "        encoding=\"UTF-8\",\n",
    "        xml_declaration=False,\n",
    "    )\n",
    "# Step 3: Parse and reformat with minidom for 4-space indent\n",
    "parsed = minidom.parseString(raw_xml)\n",
    "pretty_xml = parsed.toprettyxml(indent=\"    \", encoding=\"UTF-8\")  # 4 spaces\n",
    "pretty_xml = pretty_xml.decode(\"UTF-8\")\n",
    "\n",
    "# Optional: add your own XML declaration manually\n",
    "final_xml = \"\\n\".join(line for line in pretty_xml.split(\"\\n\") if line.strip())  # Remove blank lines\n"
   ]
  },
  {
   "cell_type": "code",
   "execution_count": 27,
   "metadata": {},
   "outputs": [
    {
     "name": "stdout",
     "output_type": "stream",
     "text": [
      "<?xml version=\"1.0\" encoding=\"UTF-8\"?>\n",
      "<FunctionPropertyGroup xmlns:xsi=\"http://www.w3.org/2001/XMLSchema-instance\" xsi:noNamespaceSchemaLocation=\"../../../Dev/schema/sds/FunctionView/FunctionPropertyGroup/FunctionPropertyGroup.xsd\">\n",
      "    <Name>EngineSpeedControl</Name>\n",
      "    <NamePresentation edt=\"nfTxt\">Engine speed control</NamePresentation>\n",
      "    <Description edt=\"fTxt\">Here you can adjust parameters that affect engine speed control. The functions that is affected is, Hand throttle, Limited hand throttle (mode 1), Raised idling speed (mode 2), Predefined (locked) engine speed (mode 3) and Remote engine speed control (mode 4).</Description>\n",
      "    <ProductVariantConditionRef ref=\"ProductVariantCondition\">Without_BWE_Without_ElectricMotor</ProductVariantConditionRef>\n",
      "    <UFNumber>93</UFNumber>\n",
      "    <UFNumber>221</UFNumber>\n",
      "    <UFNumber>222</UFNumber>\n",
      "    <UFNumber>275</UFNumber>\n",
      "    <Property>\n",
      "        <Server>\n",
      "            <CanAddress>00</CanAddress>\n",
      "            <PropertyName>PTOGearDeac</PropertyName>\n",
      "        </Server>\n",
      "    </Property>\n",
      "</FunctionPropertyGroup>\n"
     ]
    }
   ],
   "source": [
    "print(final_xml)"
   ]
  }
 ],
 "metadata": {
  "kernelspec": {
   "display_name": "venv",
   "language": "python",
   "name": "python3"
  },
  "language_info": {
   "codemirror_mode": {
    "name": "ipython",
    "version": 3
   },
   "file_extension": ".py",
   "mimetype": "text/x-python",
   "name": "python",
   "nbconvert_exporter": "python",
   "pygments_lexer": "ipython3",
   "version": "3.12.8"
  }
 },
 "nbformat": 4,
 "nbformat_minor": 2
}
