{
 "cells": [
  {
   "cell_type": "code",
   "execution_count": 1,
   "metadata": {},
   "outputs": [
    {
     "name": "stdout",
     "output_type": "stream",
     "text": [
      "Requirement already satisfied: scikit-learn in /home/rajesh/Method_Engineer_Support_Tool/venv/lib/python3.12/site-packages (1.6.1)\n",
      "Requirement already satisfied: numpy>=1.19.5 in /home/rajesh/Method_Engineer_Support_Tool/venv/lib/python3.12/site-packages (from scikit-learn) (2.2.4)\n",
      "Requirement already satisfied: scipy>=1.6.0 in /home/rajesh/Method_Engineer_Support_Tool/venv/lib/python3.12/site-packages (from scikit-learn) (1.15.2)\n",
      "Requirement already satisfied: joblib>=1.2.0 in /home/rajesh/Method_Engineer_Support_Tool/venv/lib/python3.12/site-packages (from scikit-learn) (1.4.2)\n",
      "Requirement already satisfied: threadpoolctl>=3.1.0 in /home/rajesh/Method_Engineer_Support_Tool/venv/lib/python3.12/site-packages (from scikit-learn) (3.6.0)\n",
      "\n",
      "\u001b[1m[\u001b[0m\u001b[34;49mnotice\u001b[0m\u001b[1;39;49m]\u001b[0m\u001b[39;49m A new release of pip is available: \u001b[0m\u001b[31;49m24.3.1\u001b[0m\u001b[39;49m -> \u001b[0m\u001b[32;49m25.0.1\u001b[0m\n",
      "\u001b[1m[\u001b[0m\u001b[34;49mnotice\u001b[0m\u001b[1;39;49m]\u001b[0m\u001b[39;49m To update, run: \u001b[0m\u001b[32;49mpip install --upgrade pip\u001b[0m\n",
      "Note: you may need to restart the kernel to use updated packages.\n"
     ]
    }
   ],
   "source": [
    "%pip install scikit-learn"
   ]
  },
  {
   "cell_type": "code",
   "execution_count": 2,
   "metadata": {},
   "outputs": [],
   "source": [
    "import sys\n",
    "import os\n",
    "\n",
    "# Get the absolute path of the project root (adjust as needed)\n",
    "project_root = os.path.abspath(\"../..\")  # Moves one level up to project root\n",
    "\n",
    "# Add to sys.path if not already present\n",
    "if project_root not in sys.path:\n",
    "    sys.path.insert(0, project_root)\n"
   ]
  },
  {
   "cell_type": "code",
   "execution_count": 3,
   "metadata": {},
   "outputs": [],
   "source": [
    "from models.input.physical_quantity import PhysicalQuantity\n",
    "from models.input.function_view import FunctionView\n",
    "from models.input.function_property_group import FunctionPropertyGroup"
   ]
  },
  {
   "cell_type": "code",
   "execution_count": 4,
   "metadata": {},
   "outputs": [
    {
     "name": "stdout",
     "output_type": "stream",
     "text": [
      "openai_api_key: EMPTY\n",
      "openai_api_base: http://localhost:9000/v1\n",
      "export_template_path: ./outflow/templates\n",
      "qdrant_host: localhost\n",
      "qdrant_port: 6333\n",
      "neo4j_connection: bolt://localhost:7687\n",
      "neo4j_user: neo4j\n",
      "neo4j_password: ********\n",
      "Neo4j Connection Successful\n"
     ]
    },
    {
     "data": {
      "text/plain": [
       "True"
      ]
     },
     "execution_count": 4,
     "metadata": {},
     "output_type": "execute_result"
    }
   ],
   "source": [
    "from database.database import (\n",
    "    qclient, oclient\n",
    ")\n",
    "\n",
    "from qdrant_client import QdrantClient, models\n",
    "\n",
    "# Create a vector for the Component node\n",
    "response = oclient.embeddings(model=\"nomic-embed-text\", prompt=\"Hello, world\")\n",
    "embeddings = response[\"embedding\"]\n",
    "# 2. Convert to Qdrant sparse vectors\n",
    "COLLECTION_NAME = \"function_parameters\"\n",
    "\n",
    "if qclient.collection_exists(COLLECTION_NAME):\n",
    "    qclient.delete_collection(COLLECTION_NAME)\n",
    "\n",
    "qclient.create_collection(\n",
    "    collection_name=COLLECTION_NAME,\n",
    "    vectors_config={\n",
    "        \"text-dense\": models.VectorParams(\n",
    "            size=len(embeddings), distance=models.Distance.COSINE\n",
    "        )\n",
    "    },\n",
    "    sparse_vectors_config={\n",
    "        \"text-sparse\": models.SparseVectorParams(\n",
    "            index=models.SparseIndexParams(on_disk=False)\n",
    "        )\n",
    "    },\n",
    ")"
   ]
  },
  {
   "cell_type": "code",
   "execution_count": 5,
   "metadata": {},
   "outputs": [],
   "source": [
    "# load all the physical quantities from the ./data/Function-Parameters/PhysicalQuantity/ folder\n",
    "from pathlib import Path\n",
    "\n",
    "all_files = Path(\"./data/Function-Parameters/FunctionViewAdjust\").glob(\"*.xml\")\n",
    "\n",
    "# make sure their names start with FunctionPropertyGroup\n",
    "function_property_group_files = [\n",
    "    file for file in all_files if file.name.startswith(\"FunctionPropertyGroup\")\n",
    "]\n",
    "\n",
    "funciton_properties_details = \"\"\n",
    "\n",
    "function_group_objects : list[FunctionPropertyGroup] = []\n",
    "\n",
    "for file in function_property_group_files:\n",
    "    with file.open(\"rb\") as f:\n",
    "        xml_data = f.read()\n",
    "        obj = FunctionPropertyGroup.from_xml(xml_data)\n",
    "        model_json = obj.model_dump_json(indent=2)\n",
    "        function_group_objects.append(obj)\n",
    "\n",
    "# print(physical_quantities)"
   ]
  },
  {
   "cell_type": "code",
   "execution_count": 6,
   "metadata": {},
   "outputs": [],
   "source": [
    "# Load all the physical quantities from the ./data/Function-Parameters/PhysicalQuantity/ folder\n",
    "all_files = Path(\"./data/Function-Parameters/PhysicalQuantity/\").glob(\"*.xml\")\n",
    "# make sure their names start with PhysicalQuantity\n",
    "physical_quantity_files = [\n",
    "    file for file in all_files if file.name.startswith(\"PhysicalQuantity\")\n",
    "]\n",
    "physical_quantity_objects: list[PhysicalQuantity] = []\n",
    "for file in physical_quantity_files:\n",
    "    with file.open(\"rb\") as f:\n",
    "        xml_data = f.read()\n",
    "        obj = PhysicalQuantity.from_xml(xml_data)\n",
    "        model_json = obj.model_dump_json(indent=2)\n",
    "        physical_quantity_objects.append(obj)"
   ]
  },
  {
   "cell_type": "code",
   "execution_count": 7,
   "metadata": {},
   "outputs": [
    {
     "name": "stdout",
     "output_type": "stream",
     "text": [
      "Total FunctionPropertyGroup objects loaded: 164\n",
      "Total PhysicalQuantity objects loaded: 83\n"
     ]
    }
   ],
   "source": [
    "print(\"Total FunctionPropertyGroup objects loaded:\", len(function_group_objects))\n",
    "print(\"Total PhysicalQuantity objects loaded:\", len(physical_quantity_objects))"
   ]
  },
  {
   "cell_type": "code",
   "execution_count": 8,
   "metadata": {},
   "outputs": [],
   "source": [
    "# load the FunctionViewAdjust file (single file)\n",
    "file = Path(\"./data/Function-Parameters/FunctionView_FunctionAdjustTree.xml\")\n",
    "function_view_adjust_object: FunctionView\n",
    "with file.open(\"rb\") as f:\n",
    "    xml_data = f.read()\n",
    "    obj = FunctionView.from_xml(xml_data)\n",
    "    model_json = obj.model_dump_json(indent=2)\n",
    "\n",
    "    function_view_adjust_object = obj"
   ]
  },
  {
   "cell_type": "code",
   "execution_count": 9,
   "metadata": {},
   "outputs": [],
   "source": [
    "from sklearn.feature_extraction.text import TfidfVectorizer\n",
    "\n",
    "## prep the data for vectorization\n",
    "documents = []\n",
    "for function_property_group in function_group_objects:\n",
    "    document = \"\"\n",
    "    if function_property_group.property:\n",
    "        for prop in function_property_group.property:\n",
    "            document += prop.server.propertyName + \"\\n\"\n",
    "    if function_property_group.propertyGroup:\n",
    "        for prop_group in function_property_group.propertyGroup:\n",
    "            document += prop_group.name + \"\\n\"\n",
    "            for prop in prop_group.property:\n",
    "                document += prop.server.propertyName + \"\\n\"\n",
    "    documents.append(document)\n",
    "\n",
    "# # 1. Fit TF-IDF vectorizer with char n-grams\n",
    "vectorizer = TfidfVectorizer(analyzer='char_wb', ngram_range=(2, 4))\n",
    "X_sparse = vectorizer.fit_transform(documents)\n",
    "    "
   ]
  },
  {
   "cell_type": "code",
   "execution_count": 10,
   "metadata": {},
   "outputs": [],
   "source": [
    "from utils import get_tokens\n",
    "\n",
    "\n",
    "def get_dense_vector(document):\n",
    "    \"\"\"\n",
    "    Convert sparse vector to dense format.\n",
    "    \"\"\"\n",
    "    response = oclient.embeddings(\n",
    "        model=\"nomic-embed-text\", prompt=\" \".join(get_tokens(document))\n",
    "    )\n",
    "    embeddings = response[\"embedding\"]\n",
    "\n",
    "    return embeddings\n",
    "\n",
    "\n",
    "# 3. Upsert documents\n",
    "for idx in range(X_sparse.shape[0]):\n",
    "    row = X_sparse[idx]\n",
    "    obj = function_group_objects[idx]\n",
    "    document = documents[idx]\n",
    "    indices = row.indices\n",
    "    values = row.data\n",
    "\n",
    "    qclient.upsert(\n",
    "        collection_name=COLLECTION_NAME,\n",
    "        points=[\n",
    "            models.PointStruct(\n",
    "                id=idx,\n",
    "                payload={\n",
    "                    \"json\": obj.model_dump_json(),\n",
    "                    \"document\": document,\n",
    "                    \"tokens\": get_tokens(document),\n",
    "                    \"type\": \"FunctionPropertyGroup\",\n",
    "                },\n",
    "                vector={\n",
    "                    \"text-sparse\": models.SparseVector(\n",
    "                        indices=indices.tolist(),\n",
    "                        values=values.tolist(),\n",
    "                    ),\n",
    "                    \"text-dense\": get_dense_vector(document),\n",
    "                },\n",
    "            )\n",
    "        ],\n",
    "    )"
   ]
  },
  {
   "cell_type": "code",
   "execution_count": 11,
   "metadata": {},
   "outputs": [],
   "source": [
    "from sklearn.feature_extraction.text import TfidfVectorizer\n",
    "\n",
    "## prep the data for vectorization\n",
    "documents = []\n",
    "\n",
    "for physical_quantity in physical_quantity_objects:\n",
    "    document = \"\"\n",
    "    if physical_quantity.name:\n",
    "        document += physical_quantity.name + \"\\n\"\n",
    "    if physical_quantity.unit:\n",
    "        for unit in physical_quantity.unit:\n",
    "            document += unit.name + \"\\n\"\n",
    "    documents.append(document)\n",
    "\n",
    "# # 1. Fit TF-IDF vectorizer with char n-grams\n",
    "vectorizer = TfidfVectorizer(analyzer='char_wb', ngram_range=(2, 4))\n",
    "X_sparse = vectorizer.fit_transform(documents)\n",
    "    "
   ]
  },
  {
   "cell_type": "code",
   "execution_count": 12,
   "metadata": {},
   "outputs": [],
   "source": [
    "\n",
    "# 3. Upsert documents\n",
    "for idx in range(X_sparse.shape[0]):\n",
    "    row = X_sparse[idx]\n",
    "    obj = physical_quantity_objects[idx]\n",
    "    document = documents[idx]\n",
    "    indices = row.indices\n",
    "    values = row.data\n",
    "\n",
    "    qclient.upsert(\n",
    "        collection_name=COLLECTION_NAME,\n",
    "        points=[\n",
    "            models.PointStruct(\n",
    "                id=idx + len(function_group_objects),\n",
    "                payload={\n",
    "                    \"json\": obj.model_dump_json(),\n",
    "                    \"document\": document,\n",
    "                    \"tokens\": get_tokens(document),\n",
    "                    \"type\": \"PhysicalQuantity\",\n",
    "                },\n",
    "                vector={\n",
    "                    \"text-sparse\": models.SparseVector(\n",
    "                        indices=indices.tolist(),\n",
    "                        values=values.tolist(),\n",
    "                    ),\n",
    "                    \"text-dense\": get_dense_vector(document),\n",
    "                },\n",
    "            )\n",
    "        ],\n",
    "    )"
   ]
  },
  {
   "cell_type": "code",
   "execution_count": 13,
   "metadata": {},
   "outputs": [],
   "source": [
    "documents = []\n",
    "group_objects = []  # Keep track of which group each document came from\n",
    "\n",
    "for top_group in function_view_adjust_object.group:\n",
    "    document = top_group.name + \"\\n\"\n",
    "    groups_to_process = [top_group]\n",
    "\n",
    "    while groups_to_process:\n",
    "        next_level = []\n",
    "        for group in groups_to_process:\n",
    "            # 1. Collect child group names\n",
    "            if group.group:\n",
    "                for child in group.group:\n",
    "                    document += child.name + \"\\n\"\n",
    "                    next_level.append(child)\n",
    "\n",
    "            # 2. Collect function references from content\n",
    "            if group.content:\n",
    "                for field in [\n",
    "                    group.content.functionPropertyGroup,\n",
    "                    group.content.functionGuidedMethodControlGroup,\n",
    "                    group.content.functionGuidedMethodCalibrateGroup,\n",
    "                ]:\n",
    "                    if field:\n",
    "                        for ref in field:\n",
    "                            document += ref.value + \"\\n\"\n",
    "\n",
    "        groups_to_process = next_level\n",
    "\n",
    "    documents.append(document)\n",
    "    group_objects.append(top_group)  # This aligns 1:1 with the document"
   ]
  },
  {
   "cell_type": "code",
   "execution_count": 14,
   "metadata": {},
   "outputs": [],
   "source": [
    "# Vectorize\n",
    "vectorizer = TfidfVectorizer(analyzer='char_wb', ngram_range=(2, 4))\n",
    "X_sparse = vectorizer.fit_transform(documents)\n",
    "\n",
    "# Upsert Function Groups\n",
    "for idx in range(X_sparse.shape[0]):\n",
    "    row = X_sparse[idx]\n",
    "    document = documents[idx]\n",
    "    group_obj = group_objects[idx]  # Only this group, not the full FunctionView\n",
    "\n",
    "    qclient.upsert(\n",
    "        collection_name=COLLECTION_NAME,\n",
    "        points=[\n",
    "            models.PointStruct(\n",
    "                id=idx,  # Offset if needed\n",
    "                payload={\n",
    "                    \"json\": group_obj.model_dump_json(),\n",
    "                    \"document\": document,\n",
    "                    \"tokens\": get_tokens(document),\n",
    "                    \"type\": \"FunctionViewAdjustTree\",\n",
    "                },\n",
    "                vector={\n",
    "                    \"text-sparse\": models.SparseVector(\n",
    "                        indices=row.indices.tolist(),\n",
    "                        values=row.data.tolist(),\n",
    "                    ),\n",
    "                    \"text-dense\": get_dense_vector(document),\n",
    "                },\n",
    "            )\n",
    "        ],\n",
    "    )"
   ]
  }
 ],
 "metadata": {
  "kernelspec": {
   "display_name": "venv",
   "language": "python",
   "name": "python3"
  },
  "language_info": {
   "codemirror_mode": {
    "name": "ipython",
    "version": 3
   },
   "file_extension": ".py",
   "mimetype": "text/x-python",
   "name": "python",
   "nbconvert_exporter": "python",
   "pygments_lexer": "ipython3",
   "version": "3.12.9"
  }
 },
 "nbformat": 4,
 "nbformat_minor": 2
}
