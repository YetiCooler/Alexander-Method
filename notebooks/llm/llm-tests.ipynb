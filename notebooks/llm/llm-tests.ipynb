{
 "cells": [
  {
   "cell_type": "code",
   "execution_count": 8,
   "metadata": {},
   "outputs": [
    {
     "name": "stdout",
     "output_type": "stream",
     "text": [
      "Chat response: In automotive documentation, \"ServiceDistVeh\" likely refers to the distance a vehicle has traveled since it was last serviced or the service interval distance for the vehicle. Here are some alternative terms that could be used:\n",
      "\n",
      "- Service Interval Mileage\n",
      "- Mileage Since Last Service\n",
      "- Recommended Service Mileage\n",
      "- Maintenance Interval Distance\n",
      "- Service Odometer Reading\n",
      "- Preventive Maintenance Mileage\n",
      "- Scheduled Service Distance\n",
      "\n",
      "These terms all relate to the mileage or distance that has been accumulated on a vehicle in relation to its servicing schedule.\n"
     ]
    }
   ],
   "source": [
    "from openai import OpenAI\n",
    "\n",
    "# Set OpenAI's API key and API base to use vLLM's API server.\n",
    "openai_api_key = \"EMPTY\"\n",
    "openai_api_base = \"http://localhost:8000/v1\"\n",
    "\n",
    "client = OpenAI(\n",
    "    api_key=openai_api_key,\n",
    "    base_url=openai_api_base,\n",
    ")\n",
    "\n",
    "term = \"ServiceDistVeh\"\n",
    "\n",
    "chat_response = client.chat.completions.create(\n",
    "    model=\"NovaSky-AI/Sky-T1-32B-Flash\",\n",
    "    messages=[\n",
    "        {\n",
    "            \"role\": \"system\",\n",
    "            \"content\": \"\"\"\"\n",
    "         You are a technical writer for an automotive company. You are familiar with various terms used in automotive documentation.\n",
    "         You will be given a term and you need to provide other words that can be used in automotive documentation for that term.\n",
    "         For example, if the term is \"accelerator pedal\", you can use \"gas pedal\", \"throttle pedal\", etc.\n",
    "\n",
    "         ========================================\n",
    "         RULES:\n",
    "\n",
    "        1. Provide other words that can be used in automotive documentation for the given term.\n",
    "\n",
    "        \"\"\",\n",
    "        },\n",
    "        {\n",
    "            \"role\": \"user\",\n",
    "            \"content\": f\"In automotive documentation what other words can be used for {term}?\",\n",
    "        },\n",
    "    ],\n",
    ")\n",
    "print(\"Chat response:\", chat_response.choices[0].message.content)"
   ]
  },
  {
   "cell_type": "code",
   "execution_count": 11,
   "metadata": {},
   "outputs": [
    {
     "name": "stdout",
     "output_type": "stream",
     "text": [
      "Chat response: Given the term \"PTO_AL2_PBRAKE_DEP_2\" and its description, it seems to be related to whether a Power Take-Off (PTO) system component (AL2) should have a dependency on parking brake activation or deactivation. This appears to be a binary state—either there is a dependency or there isn't.\n",
      "\n",
      "### Type of Physical Quantity:\n",
      "- **Type**: Boolean or Binary State\n",
      "- **Explanation**: The term indicates a condition or state that can be either true (dependency exists) or false (no dependency).\n",
      "\n",
      "### Unit of Measurement:\n",
      "- **Unit**: None\n",
      "- **Explanation**: Since this is a boolean value, it doesn't require a unit of measurement. It's simply a yes/no or true/false condition.\n",
      "\n",
      "### Summary:\n",
      "- **Physical Quantity Type**: Boolean\n",
      "- **Unit of Measurement**: N/A\n",
      "\n",
      "This classification is based on the understanding that the term represents a condition or flag rather than a measurable physical quantity with units like meters, seconds, etc. If there's more context suggesting otherwise, please provide additional details.\n"
     ]
    }
   ],
   "source": [
    "from openai import OpenAI\n",
    "\n",
    "# Set OpenAI's API key and API base to use vLLM's API server.\n",
    "openai_api_key = \"EMPTY\"\n",
    "openai_api_base = \"http://localhost:8000/v1\"\n",
    "\n",
    "client = OpenAI(\n",
    "    api_key=openai_api_key,\n",
    "    base_url=openai_api_base,\n",
    ")\n",
    "\n",
    "term = \"PTO_AL2_PBRAKE_DEP_2\"\n",
    "description = \"States if PTO AL2 shall have a parking brake activation/deactivation dependency or not.\"\n",
    "range_name = \"PTO_PBRAKE_NEUTRAL_COND\"\n",
    "\n",
    "chat_response = client.chat.completions.create(\n",
    "    model=\"NovaSky-AI/Sky-T1-32B-Flash\",\n",
    "    messages=[\n",
    "        {\n",
    "            \"role\": \"system\",\n",
    "            \"content\": \"\"\"\"\n",
    "         You are a technical writer for an automotive company. You are familiar with various terms used in automotive documentation.\n",
    "         Given a term and it's description, you need to decide a type of physical quantity and the unit of measurement that is most appropriate for the term.\n",
    "\n",
    "         ========================================\n",
    "         RULES:\n",
    "\n",
    "        1. Decide a type of physical quantity and the unit of measurement that is most appropriate for the term.\n",
    "\n",
    "        \"\"\",\n",
    "        },\n",
    "        {\n",
    "            \"role\": \"user\",\n",
    "            \"content\": f\"\"\"Term: {term}?\n",
    "                Description: {description}\n",
    "                Range Name: {range_name}\"\"\",\n",
    "        },\n",
    "    ],\n",
    ")\n",
    "print(\"Chat response:\", chat_response.choices[0].message.content)"
   ]
  }
 ],
 "metadata": {
  "kernelspec": {
   "display_name": "venv",
   "language": "python",
   "name": "python3"
  },
  "language_info": {
   "codemirror_mode": {
    "name": "ipython",
    "version": 3
   },
   "file_extension": ".py",
   "mimetype": "text/x-python",
   "name": "python",
   "nbconvert_exporter": "python",
   "pygments_lexer": "ipython3",
   "version": "3.12.9"
  }
 },
 "nbformat": 4,
 "nbformat_minor": 2
}
