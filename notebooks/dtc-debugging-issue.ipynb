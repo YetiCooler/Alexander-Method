{
 "cells": [
  {
   "cell_type": "code",
   "execution_count": 2,
   "metadata": {},
   "outputs": [],
   "source": [
    "import sys\n",
    "import os\n",
    "\n",
    "# Get the absolute path of the project root (adjust as needed)\n",
    "project_root = os.path.abspath(\"..\")  # Moves one level up to project root\n",
    "\n",
    "# Add to sys.path if not already present\n",
    "if project_root not in sys.path:\n",
    "    sys.path.insert(0, project_root)\n"
   ]
  },
  {
   "cell_type": "code",
   "execution_count": 3,
   "metadata": {},
   "outputs": [],
   "source": [
    "from pypdf import PdfReader\n"
   ]
  },
  {
   "cell_type": "code",
   "execution_count": 4,
   "metadata": {},
   "outputs": [],
   "source": [
    "pdf_file = PdfReader(f\"data/03_DTC_CCM_V1.0.pdf\")"
   ]
  },
  {
   "cell_type": "code",
   "execution_count": 5,
   "metadata": {},
   "outputs": [
    {
     "name": "stdout",
     "output_type": "stream",
     "text": [
      "TECHNICAL PRODUCT DATA 3087643\n",
      "Diagnostic Trouble Code Specification\n",
      "DTC specification CCU1Issued by\n",
      "Björn Svensson\n",
      "Checked 1 Checked 2 Information Classification\n",
      "I\n",
      "Status\n",
      "PR\n",
      "Revision\n",
      "1\n",
      "Page\n",
      "109 (130\n",
      "N.B. The copyright and ownership of this document including associated computer data are and will remain ours.\n",
      "They must not be copied, used or brought to the knowledge of any third party without our prior permission.\n",
      "©  Scania CV AB, Sweden\n",
      "SV 1744   01­06\n",
      "4.102 A107 DCS (E106) CAN Timeout\n",
      "Implemented:True\n",
      "Enabled: True\n",
      "Order: PRIMARY\n",
      "Internal: False\n",
      "Classification:FAULT\n",
      "SAE J1939­73: False\n",
      "SPN:  \n",
      "FMI:  \n",
      "Heading\n",
      "DCS (E106) CAN Timeout\n",
      "Detection\n",
      "The cab comfort unit (E186) has not received the CAN message DoorStatusProprietary from DCS (E106) within the\n",
      "specified time period.\n",
      "Cause\n",
      "Electrical error on the green CAN bus or DCS is not communicating on the CAN bus when expected.\n",
      "System Reaction\n",
      "The cab comfort unit will not work properly\n",
      "Symptom\n",
      "The cab comfort unit will not work properly\n",
      "Action\n",
      "1. Check if any system on green bus has been updated, which would have disabled all CAN messages on the \n",
      "bus.2. Check if other control systems connected to green CAN bus has a DTC for CAN communication error. If \n",
      "several systems has this DTC, there probably is an electrical error on the CAN bus, or DCS is not communicating.3.\n",
      "Check the CAN bus connection to the cab comfort unit.\n",
      "Calibration\n",
      "Parameter Value\n",
      "Component: BM DCS CAN Timeout: Unknown Fault\n",
      "Selfhealing CCU1_BM_data_group: No self healing\n",
      "Erasability CCU1_BM_data_group: Erasable\n",
      "Redetected degradationCCU1_BM_data_group: No degradation\n",
      "Warning lamp CCU1_BM_data_group: No warning lamp\n",
      "Direct degradation CCU1_BM_data_group: No direct degradation\n"
     ]
    }
   ],
   "source": [
    "text = pdf_file.pages[108].extract_text()\n",
    "\n",
    "print(text)"
   ]
  },
  {
   "cell_type": "code",
   "execution_count": 6,
   "metadata": {},
   "outputs": [
    {
     "name": "stdout",
     "output_type": "stream",
     "text": [
      "openai_api_key: EMPTY\n",
      "openai_api_base: http://localhost:8000/v1\n",
      "export_template_path: ./outflow/templates\n",
      "qdrant_host: localhost\n",
      "qdrant_port: 6333\n",
      "neo4j_connection: bolt://localhost:7687\n",
      "neo4j_user: neo4j\n",
      "neo4j_password: ********\n",
      "{'verify_error_presence': {'error_classification_evaluation': ErrorExistanceCompletion(has_error_details='Yes', reason='The page contains specific error code information including detection, cause, system reaction, and symptom, indicating it is a detailed error code description page.')}}\n",
      "{'extract_error_codes': {'dtc_specification': DTCSpecification(error_code='A107', components='E106, E186', heading='DCS (E106) CAN Timeout', detection='The cab comfort unit (E186) has not received the CAN message DoorStatusProprietary from DCS (E106) within the specified time period.', cause='Electrical error on the green CAN bus or DCS is not communicating on the CAN bus when expected.', system_reaction='The cab comfort unit will not work properly', symptom='The cab comfort unit will not work properly'), 'attempt': 1}}\n",
      "{'verify_error_extraction': {'error_extraction_evaluation': ErrorExtractionCompletion(approved='yes', reason='All critical fields are present and correctly identified.')}}\n"
     ]
    }
   ],
   "source": [
    "from graphs.dtc_extractor import graph as dtc_extractor\n",
    "for event in dtc_extractor.stream(\n",
    "        {\"page_text\": text, \"attempt\": 0}, stream_mode=\"updates\"\n",
    "    ):\n",
    "\n",
    "    print(event)"
   ]
  },
  {
   "cell_type": "code",
   "execution_count": 6,
   "metadata": {},
   "outputs": [
    {
     "data": {
      "text/plain": [
       "{'properties': {'approved': {'description': 'yes/no',\n",
       "   'title': 'Approved',\n",
       "   'type': 'string'},\n",
       "  'reason': {'description': 'a very short reason for the classification',\n",
       "   'title': 'Reason',\n",
       "   'type': 'string'}},\n",
       " 'required': ['approved', 'reason'],\n",
       " 'title': 'ErrorExtractionCompletion',\n",
       " 'type': 'object'}"
      ]
     },
     "execution_count": 6,
     "metadata": {},
     "output_type": "execute_result"
    }
   ],
   "source": [
    "from graphs.dtc_extractor import ErrorExtractionCompletion\n",
    "\n",
    "ErrorExtractionCompletion.model_json_schema()"
   ]
  }
 ],
 "metadata": {
  "kernelspec": {
   "display_name": "venv",
   "language": "python",
   "name": "python3"
  },
  "language_info": {
   "codemirror_mode": {
    "name": "ipython",
    "version": 3
   },
   "file_extension": ".py",
   "mimetype": "text/x-python",
   "name": "python",
   "nbconvert_exporter": "python",
   "pygments_lexer": "ipython3",
   "version": "3.12.9"
  }
 },
 "nbformat": 4,
 "nbformat_minor": 2
}
